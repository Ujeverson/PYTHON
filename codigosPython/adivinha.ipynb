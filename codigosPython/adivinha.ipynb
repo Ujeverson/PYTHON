{
 "cells": [
  {
   "cell_type": "code",
   "execution_count": 6,
   "id": "4c7564eb",
   "metadata": {},
   "outputs": [],
   "source": [
    "import random"
   ]
  },
  {
   "cell_type": "code",
   "execution_count": 34,
   "id": "69f6a372",
   "metadata": {},
   "outputs": [],
   "source": [
    "numero = random.randint(1,10)"
   ]
  },
  {
   "cell_type": "code",
   "execution_count": 16,
   "id": "55acd346",
   "metadata": {},
   "outputs": [
    {
     "name": "stdout",
     "output_type": "stream",
     "text": [
      "Digite um número, inteiro entre 1 e 10!\n",
      "9\n"
     ]
    }
   ],
   "source": [
    "chute = int(input(\"Digite um número, inteiro entre 1 e 10!\\n\"))"
   ]
  },
  {
   "cell_type": "code",
   "execution_count": 35,
   "id": "0f811224",
   "metadata": {},
   "outputs": [
    {
     "name": "stdout",
     "output_type": "stream",
     "text": [
      "Você errou por 1 !\n"
     ]
    }
   ],
   "source": [
    "if numero == chute:\n",
    "    print('Você acertou!')\n",
    "else:\n",
    "    diferenca = numero - chute\n",
    "    if diferenca < 0:\n",
    "        print('Você errou por', abs(numero),'!')\n",
    "    else:\n",
    "        print('Você errou por', abs(numero),'!')"
   ]
  },
  {
   "cell_type": "code",
   "execution_count": null,
   "id": "fd8367ee",
   "metadata": {},
   "outputs": [],
   "source": []
  }
 ],
 "metadata": {
  "kernelspec": {
   "display_name": "Python 3 (ipykernel)",
   "language": "python",
   "name": "python3"
  },
  "language_info": {
   "codemirror_mode": {
    "name": "ipython",
    "version": 3
   },
   "file_extension": ".py",
   "mimetype": "text/x-python",
   "name": "python",
   "nbconvert_exporter": "python",
   "pygments_lexer": "ipython3",
   "version": "3.10.4"
  }
 },
 "nbformat": 4,
 "nbformat_minor": 5
}
