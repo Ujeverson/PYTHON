{
 "cells": [
  {
   "cell_type": "code",
   "execution_count": 1,
   "id": "4c7564eb",
   "metadata": {},
   "outputs": [],
   "source": [
    "import random"
   ]
  },
  {
   "cell_type": "code",
   "execution_count": null,
   "id": "55acd346",
   "metadata": {},
   "outputs": [],
   "source": [
    "chute = int(input(\"Digite um número, inteiro entre 1 e 20!\\n\"))"
   ]
  },
  {
   "cell_type": "code",
   "execution_count": 17,
   "id": "a4bf4c95",
   "metadata": {},
   "outputs": [
    {
     "data": {
      "text/plain": [
       "16"
      ]
     },
     "execution_count": 17,
     "metadata": {},
     "output_type": "execute_result"
    }
   ],
   "source": [
    "numero = random.randint(1,20)\n",
    "numero"
   ]
  },
  {
   "cell_type": "code",
   "execution_count": 12,
   "id": "71432e5f",
   "metadata": {},
   "outputs": [],
   "source": [
    "diferenca = numero - chute"
   ]
  },
  {
   "cell_type": "code",
   "execution_count": 13,
   "id": "0f811224",
   "metadata": {},
   "outputs": [
    {
     "name": "stdout",
     "output_type": "stream",
     "text": [
      "Você errou por 10 !\n"
     ]
    }
   ],
   "source": [
    "if numero == chute:\n",
    "    print('Você acertou!')\n",
    "\n",
    "elif diferenca < 0:\n",
    "    print('Você errou por', abs(diferenca),'!')\n",
    "\n",
    "else:\n",
    "    print('Você errou por', abs(diferenca),'!')"
   ]
  },
  {
   "cell_type": "code",
   "execution_count": null,
   "id": "94b499d8",
   "metadata": {},
   "outputs": [],
   "source": []
  }
 ],
 "metadata": {
  "kernelspec": {
   "display_name": "Python 3 (ipykernel)",
   "language": "python",
   "name": "python3"
  },
  "language_info": {
   "codemirror_mode": {
    "name": "ipython",
    "version": 3
   },
   "file_extension": ".py",
   "mimetype": "text/x-python",
   "name": "python",
   "nbconvert_exporter": "python",
   "pygments_lexer": "ipython3",
   "version": "3.10.4"
  }
 },
 "nbformat": 4,
 "nbformat_minor": 5
}
