{
 "cells": [
  {
   "cell_type": "code",
   "execution_count": 1,
   "id": "5dab75e4",
   "metadata": {},
   "outputs": [],
   "source": [
    "import random"
   ]
  },
  {
   "cell_type": "code",
   "execution_count": 2,
   "id": "73143ad5",
   "metadata": {},
   "outputs": [],
   "source": [
    "#Criar um robo que se movimenta em uma matriz 10 x 10\n",
    "class Localizacao(object):\n",
    "    def __init__(self, x, y): \n",
    "        self.x = x \n",
    "        self.y = y\n",
    "    \n",
    "    def __str__(self):\n",
    "        return '<%s, %s>' % (self.x, self.y)"
   ]
  },
  {
   "cell_type": "code",
   "execution_count": 3,
   "id": "4e0b29bd",
   "metadata": {},
   "outputs": [],
   "source": [
    "class Gift(Localizacao):\n",
    "    def __init__(self, x, y, name): \n",
    "        super(Gift, self).__init__(x,y)\n",
    "        self.name = name\n",
    "    \n",
    "    def __str__(self):\n",
    "        return '<%s, %s>: %s' % (self.x, self.y,self.name)\n",
    "    \n",
    "    def __repr__(self):\n",
    "        return '<Gift> %s' % str(self)"
   ]
  },
  {
   "cell_type": "code",
   "execution_count": 4,
   "id": "1352fe74",
   "metadata": {},
   "outputs": [],
   "source": [
    "class Robo(Localizacao):\n",
    "        \n",
    "    def mover_cima(self): #ou mover p cima\n",
    "        \n",
    "        if self.y < 10:\n",
    "            self.y = self.y + 1\n",
    "        else:\n",
    "            print(\"O espaço acabou!\")\n",
    "        \n",
    "    \n",
    "    def mover_baixo(self):\n",
    "       \n",
    "        if self.y >= 0:\n",
    "            self.y = self.y - 1\n",
    "        else:\n",
    "            print(\"O espaço acabou!\")\n",
    "            \n",
    "    def mover_esquerda(self):\n",
    "       \n",
    "        if self.x >= 0:\n",
    "            self.x = self.x - 1\n",
    "        else:\n",
    "            print(\"O espaço acabou!\")\n",
    "            \n",
    "    def mover_direita(self):\n",
    "      \n",
    "        if self.x < 10:\n",
    "            self.x = self.x + 1\n",
    "        else:\n",
    "            print(\"O espaço acabou!\")"
   ]
  },
  {
   "cell_type": "code",
   "execution_count": 5,
   "id": "f85b05b8",
   "metadata": {},
   "outputs": [],
   "source": [
    "#verifica se o robo encontrou o \"presente\"\n",
    "def check_gift(robo, gifts):\n",
    "    ok = False\n",
    "    for gift in gifts:\n",
    "        if gift.x == robo.x and gift.y == robo.y:\n",
    "            print(\"O robo encontrou o gift:\", gift.name)\n",
    "            ok = True\n",
    "            \n",
    "    return ok"
   ]
  },
  {
   "cell_type": "code",
   "execution_count": 6,
   "id": "58ce3472",
   "metadata": {},
   "outputs": [],
   "source": [
    "#criar gifts no \"mapa\"\n",
    "g1 = Gift(random.randint(0,9), random.randint(0,9), 'energia')\n",
    "g2 = Gift(random.randint(0,9), random.randint(0,9), 'lubrificante')\n",
    "g3 = Gift(random.randint(0,9), random.randint(0,9), 'arma')\n",
    "g4 = Gift(random.randint(0,9), random.randint(0,9), 'energia2')\n",
    "g5 = Gift(random.randint(0,9), random.randint(0,9), 'lubrificante2')\n",
    "g6 = Gift(random.randint(0,9), random.randint(0,9), 'arma2')\n",
    "gifts = [g1, g2, g3, g4, g5, g6]"
   ]
  },
  {
   "cell_type": "code",
   "execution_count": 7,
   "id": "b348324e",
   "metadata": {},
   "outputs": [
    {
     "name": "stdout",
     "output_type": "stream",
     "text": [
      "<6, 8>: energia\n",
      "<7, 9>: lubrificante\n",
      "<5, 2>: arma\n",
      "<4, 0>: energia2\n",
      "<1, 1>: lubrificante2\n",
      "<4, 1>: arma2\n"
     ]
    }
   ],
   "source": [
    "print(g1)\n",
    "print(g2)\n",
    "print(g3)\n",
    "print(g4)\n",
    "print(g5)\n",
    "print(g6)"
   ]
  },
  {
   "cell_type": "code",
   "execution_count": 8,
   "id": "a6cd4164",
   "metadata": {},
   "outputs": [
    {
     "name": "stdout",
     "output_type": "stream",
     "text": [
      "<7, 8>\n"
     ]
    }
   ],
   "source": [
    "robo = Robo(random.randint(0,9), random.randint(0,9))\n",
    "print(robo)"
   ]
  },
  {
   "cell_type": "code",
   "execution_count": 9,
   "id": "0821149f",
   "metadata": {},
   "outputs": [],
   "source": [
    "for i in range(10):\n",
    "    movimento = input(\"Digite up, down, left ou right para se movimentar: \")\n",
    "    if movimento == 'up':\n",
    "        robo.mover_cima()\n",
    "    \n",
    "    elif movimento == 'down':\n",
    "        robo.mover_baixo()\n",
    "    \n",
    "    elif movimento == 'left':\n",
    "        robo.mover_esquerda()\n",
    "    \n",
    "    elif movimento == 'right':\n",
    "        robo.mover_direita()\n",
    "    \n",
    "    else:\n",
    "        print(\"\\nVocê digitou um movimento que não existe! Tente novamente.\")\n",
    "        continue #para que o usario possa retornar para o inicio do loop for.\n",
    "    \n",
    "    print(robo)\n",
    "    check_gift(robo, gifts)"
   ]
  },
  {
   "cell_type": "code",
   "execution_count": null,
   "id": "4be2cbab",
   "metadata": {},
   "outputs": [],
   "source": []
  }
 ],
 "metadata": {
  "interpreter": {
   "hash": "edfc1452448be5ea333e1d02cb10d46409c332cf4fcf5b8e2b33de7b8b8f5936"
  },
  "kernelspec": {
   "display_name": "Python 3.10.4 64-bit",
   "language": "python",
   "name": "python3"
  },
  "language_info": {
   "codemirror_mode": {
    "name": "ipython",
    "version": 3
   },
   "file_extension": ".py",
   "mimetype": "text/x-python",
   "name": "python",
   "nbconvert_exporter": "python",
   "pygments_lexer": "ipython3",
   "version": "3.10.4"
  }
 },
 "nbformat": 4,
 "nbformat_minor": 5
}
