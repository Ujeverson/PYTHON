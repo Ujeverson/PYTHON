{
 "cells": [
  {
   "cell_type": "markdown",
   "id": "deece300",
   "metadata": {},
   "source": [
    "# Matemática e Estatística - MATRIZES\n",
    "## Prof. Ujeverson Tavares"
   ]
  },
  {
   "cell_type": "markdown",
   "id": "43cc2138",
   "metadata": {},
   "source": [
    "## Tipo de matrizes"
   ]
  },
  {
   "cell_type": "code",
   "execution_count": null,
   "id": "f753effd",
   "metadata": {},
   "outputs": [],
   "source": [
    "import numpy as np\n"
   ]
  },
  {
   "cell_type": "markdown",
   "id": "4749129d",
   "metadata": {},
   "source": [
    "### Matriz linha"
   ]
  },
  {
   "cell_type": "code",
   "execution_count": null,
   "id": "ff3061d6",
   "metadata": {},
   "outputs": [],
   "source": [
    "A = np.array([[1, 3, -9]])\n",
    "A"
   ]
  },
  {
   "cell_type": "code",
   "execution_count": null,
   "id": "46fe9867",
   "metadata": {},
   "outputs": [],
   "source": [
    "np.shape(A) #shape mostra a dimenção da matriz"
   ]
  },
  {
   "cell_type": "markdown",
   "id": "2c041bb2",
   "metadata": {},
   "source": [
    "### Matriz coluna "
   ]
  },
  {
   "cell_type": "code",
   "execution_count": null,
   "id": "1f1d56ae",
   "metadata": {},
   "outputs": [],
   "source": [
    "B = np.array([[1],[3],[-9]])\n",
    "B"
   ]
  },
  {
   "cell_type": "code",
   "execution_count": null,
   "id": "faff4d61",
   "metadata": {},
   "outputs": [],
   "source": [
    "np.shape(B)"
   ]
  },
  {
   "cell_type": "markdown",
   "id": "a9768b16",
   "metadata": {},
   "source": [
    "### Matriz quadrada"
   ]
  },
  {
   "cell_type": "code",
   "execution_count": null,
   "id": "816f4c0e",
   "metadata": {},
   "outputs": [],
   "source": [
    "#escrevendo uma matriz 3x3\n",
    "m1 = np.array([[1, -3, 5],[-4, -8, 12], [-5, 8, 2]], dtype=int)\n",
    "m1"
   ]
  },
  {
   "cell_type": "code",
   "execution_count": null,
   "id": "ce63964d",
   "metadata": {},
   "outputs": [],
   "source": [
    "#.shape, também, mostra a dimensão da matriz\n",
    "m1.shape"
   ]
  },
  {
   "cell_type": "code",
   "execution_count": null,
   "id": "3992288e",
   "metadata": {},
   "outputs": [],
   "source": [
    "#escrevendo uma matriz com números, aleatórios, no intervalo [0,1)\n",
    "B = np.random.rand(4, 3)\n",
    "B"
   ]
  },
  {
   "cell_type": "markdown",
   "id": "3199c181",
   "metadata": {},
   "source": [
    "### Matriz nula"
   ]
  },
  {
   "cell_type": "code",
   "execution_count": null,
   "id": "db205014",
   "metadata": {},
   "outputs": [],
   "source": [
    "#matriz nula\n",
    "C = np.zeros((3,3))\n",
    "C"
   ]
  },
  {
   "cell_type": "code",
   "execution_count": null,
   "id": "bad2e1a7",
   "metadata": {},
   "outputs": [],
   "source": [
    "#criar uma matriz diagonal\n",
    "D = np.diag([-1,1,8])\n",
    "D"
   ]
  },
  {
   "cell_type": "markdown",
   "id": "19693a20",
   "metadata": {},
   "source": [
    "### Matriz identidade"
   ]
  },
  {
   "cell_type": "code",
   "execution_count": null,
   "id": "9707c797",
   "metadata": {},
   "outputs": [],
   "source": [
    "#criar uma matriz identidade\n",
    "I2 = np.identity(3) #matriz identidade de ordem 3\n",
    "I2"
   ]
  },
  {
   "cell_type": "markdown",
   "id": "63aefc1d",
   "metadata": {},
   "source": [
    "### Localizar um elemento na matriz"
   ]
  },
  {
   "cell_type": "code",
   "execution_count": null,
   "id": "b5a07607",
   "metadata": {},
   "outputs": [],
   "source": [
    "m1"
   ]
  },
  {
   "cell_type": "code",
   "execution_count": null,
   "id": "d54c5700",
   "metadata": {},
   "outputs": [],
   "source": [
    "m1[0,1] "
   ]
  },
  {
   "cell_type": "code",
   "execution_count": null,
   "id": "25c723b7",
   "metadata": {},
   "outputs": [],
   "source": [
    "#ou\n",
    "m1[0][1]"
   ]
  },
  {
   "cell_type": "code",
   "execution_count": null,
   "id": "853cccdf",
   "metadata": {},
   "outputs": [],
   "source": [
    "#ou\n",
    "m1[-2][-3]"
   ]
  },
  {
   "cell_type": "code",
   "execution_count": null,
   "id": "266d1dc6",
   "metadata": {},
   "outputs": [],
   "source": [
    "#ou\n",
    "m1[-2,-2]"
   ]
  },
  {
   "cell_type": "markdown",
   "id": "3036b9c6",
   "metadata": {},
   "source": [
    "### Imprimir os elementos de uma coluna"
   ]
  },
  {
   "cell_type": "code",
   "execution_count": null,
   "id": "4212c783",
   "metadata": {},
   "outputs": [],
   "source": [
    "m1[:,2]"
   ]
  },
  {
   "cell_type": "code",
   "execution_count": null,
   "id": "76ac7615",
   "metadata": {},
   "outputs": [],
   "source": [
    "m1"
   ]
  },
  {
   "cell_type": "markdown",
   "id": "26fa950c",
   "metadata": {},
   "source": [
    "### Imprimir os elementos de uma linha"
   ]
  },
  {
   "cell_type": "code",
   "execution_count": null,
   "id": "28547102",
   "metadata": {},
   "outputs": [],
   "source": [
    "m1[0,:]"
   ]
  },
  {
   "cell_type": "markdown",
   "id": "74399f80",
   "metadata": {},
   "source": [
    "## Matrize transposta"
   ]
  },
  {
   "cell_type": "code",
   "execution_count": null,
   "id": "219039e1",
   "metadata": {},
   "outputs": [],
   "source": [
    "m1"
   ]
  },
  {
   "cell_type": "code",
   "execution_count": null,
   "id": "68296065",
   "metadata": {},
   "outputs": [],
   "source": [
    "m1.transpose()"
   ]
  },
  {
   "cell_type": "markdown",
   "id": "c802a812",
   "metadata": {},
   "source": [
    "## Operações com Matrizes"
   ]
  },
  {
   "cell_type": "code",
   "execution_count": null,
   "id": "587abaf4",
   "metadata": {},
   "outputs": [],
   "source": [
    "A = np.array([[1, 2, -3],[3, 4, 0]])\n",
    "A"
   ]
  },
  {
   "cell_type": "code",
   "execution_count": null,
   "id": "8b4431b4",
   "metadata": {},
   "outputs": [],
   "source": [
    "B = np.array([[-2, 1, 5],[0, 3, -4]])\n",
    "B"
   ]
  },
  {
   "cell_type": "markdown",
   "id": "7c6b34be",
   "metadata": {},
   "source": [
    "#### Adição"
   ]
  },
  {
   "cell_type": "code",
   "execution_count": null,
   "id": "bc9adf43",
   "metadata": {},
   "outputs": [],
   "source": [
    "A + B"
   ]
  },
  {
   "cell_type": "markdown",
   "id": "f5a24b16",
   "metadata": {},
   "source": [
    "#### Subtração"
   ]
  },
  {
   "cell_type": "code",
   "execution_count": null,
   "id": "279894bd",
   "metadata": {},
   "outputs": [],
   "source": [
    "A - B"
   ]
  },
  {
   "cell_type": "markdown",
   "id": "6f42f527",
   "metadata": {},
   "source": [
    "#### Multiplicação de um número por uma matriz"
   ]
  },
  {
   "cell_type": "code",
   "execution_count": null,
   "id": "10794b7f",
   "metadata": {},
   "outputs": [],
   "source": [
    "C = -3*A\n",
    "C"
   ]
  },
  {
   "cell_type": "markdown",
   "id": "a076206f",
   "metadata": {},
   "source": [
    "#### Multiplicação de matrizes"
   ]
  },
  {
   "cell_type": "code",
   "execution_count": null,
   "id": "288eef8a",
   "metadata": {},
   "outputs": [],
   "source": [
    "A = np.array([[1, 2, -3],[3, 4, 0]])\n",
    "A"
   ]
  },
  {
   "cell_type": "code",
   "execution_count": null,
   "id": "d6661dd1",
   "metadata": {},
   "outputs": [],
   "source": [
    "B = np.array([[2, 3],[-3, 0],[4, 5]])\n",
    "B"
   ]
  },
  {
   "cell_type": "code",
   "execution_count": null,
   "id": "43819350",
   "metadata": {},
   "outputs": [],
   "source": [
    "C = np.dot(A, B)\n",
    "C"
   ]
  },
  {
   "cell_type": "markdown",
   "id": "1490ba71",
   "metadata": {},
   "source": [
    "#### Matriz inversa"
   ]
  },
  {
   "cell_type": "code",
   "execution_count": null,
   "id": "982a8112",
   "metadata": {},
   "outputs": [],
   "source": [
    "Ainv = np.linalg.inv(A)\n",
    "Ainv"
   ]
  },
  {
   "cell_type": "code",
   "execution_count": null,
   "id": "f51187c3",
   "metadata": {},
   "outputs": [],
   "source": [
    "A = np.array([[2, 1], [0, 5]])\n",
    "A"
   ]
  },
  {
   "cell_type": "code",
   "execution_count": null,
   "id": "2ff787e0",
   "metadata": {},
   "outputs": [],
   "source": [
    "Ainv = np.linalg.inv(A)\n",
    "Ainv"
   ]
  },
  {
   "cell_type": "code",
   "execution_count": null,
   "id": "0fb493c6",
   "metadata": {},
   "outputs": [],
   "source": []
  }
 ],
 "metadata": {
  "interpreter": {
   "hash": "158df72d28a1c96a6e287f212b1885ff2a0a52a0b13178a71eae420cb9a21b9e"
  },
  "kernelspec": {
   "display_name": "Python 3 (ipykernel)",
   "language": "python",
   "name": "python3"
  },
  "language_info": {
   "codemirror_mode": {
    "name": "ipython",
    "version": 3
   },
   "file_extension": ".py",
   "mimetype": "text/x-python",
   "name": "python",
   "nbconvert_exporter": "python",
   "pygments_lexer": "ipython3",
   "version": "3.10.4"
  }
 },
 "nbformat": 4,
 "nbformat_minor": 5
}
