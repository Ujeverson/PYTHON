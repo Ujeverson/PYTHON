{
 "cells": [
  {
   "cell_type": "markdown",
   "id": "deece300",
   "metadata": {},
   "source": [
    "# Matemática e Estatística\n",
    "## Prof. Ujeverson Tavares"
   ]
  },
  {
   "cell_type": "markdown",
   "id": "43cc2138",
   "metadata": {},
   "source": [
    "## Soma de matrizes"
   ]
  },
  {
   "cell_type": "markdown",
   "id": "4749129d",
   "metadata": {},
   "source": [
    "### Matriz linha"
   ]
  },
  {
   "cell_type": "code",
   "execution_count": null,
   "id": "f753effd",
   "metadata": {},
   "outputs": [],
   "source": [
    "!pip install numpy"
   ]
  },
  {
   "cell_type": "code",
   "execution_count": null,
   "id": "c6f40aac",
   "metadata": {},
   "outputs": [],
   "source": [
    "def somar(m1, m2):\n",
    "    matriz_soma = []\n",
    "    # Supondo que as duas matrizes possuem o mesmo tamanho\n",
    "    quant_linhas = len(m1) # Conta quantas linhas existem\n",
    "    quant_colunas = len(m1[0]) # Conta quantos elementos têm em uma linha\n",
    "    for i in range(quant_linhas):\n",
    "        # Cria uma nova linha na matriz_soma\n",
    "        matriz_soma.append([])\n",
    "        for j in range(quant_colunas):\n",
    "            # Somando os elementos que possuem o mesmo índice\n",
    "            soma = m1[i][j] + m2[i][j]\n",
    "            matriz_soma[i].append(soma)\n",
    "    return matriz_soma"
   ]
  }
 ],
 "metadata": {
  "kernelspec": {
   "display_name": "Python 3 (ipykernel)",
   "language": "python",
   "name": "python3"
  },
  "language_info": {
   "codemirror_mode": {
    "name": "ipython",
    "version": 3
   },
   "file_extension": ".py",
   "mimetype": "text/x-python",
   "name": "python",
   "nbconvert_exporter": "python",
   "pygments_lexer": "ipython3",
   "version": "3.10.4"
  }
 },
 "nbformat": 4,
 "nbformat_minor": 5
}
