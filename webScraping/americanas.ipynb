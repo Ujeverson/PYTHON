{
 "cells": [
  {
   "cell_type": "code",
   "execution_count": 4,
   "id": "ed06e343",
   "metadata": {},
   "outputs": [
    {
     "name": "stdout",
     "output_type": "stream",
     "text": [
      "Requirement already satisfied: urllib3 in c:\\users\\ujeverson.sampaio\\miniconda3\\lib\\site-packages (1.25.11)\n"
     ]
    }
   ],
   "source": [
    "!pip install urllib3 # o \"!\" é para que o jupyter possa installar a biblioteca"
   ]
  },
  {
   "cell_type": "code",
   "execution_count": 5,
   "id": "3b85fd28",
   "metadata": {},
   "outputs": [],
   "source": [
    "import urllib.request #biblioteca para realizar requisição em um site"
   ]
  },
  {
   "cell_type": "code",
   "execution_count": null,
   "id": "e407f629",
   "metadata": {},
   "outputs": [],
   "source": [
    "with urllib.request.urlopen(\"\") as url:\n",
    "    page = url.read()"
   ]
  }
 ],
 "metadata": {
  "kernelspec": {
   "display_name": "Python 3 (ipykernel)",
   "language": "python",
   "name": "python3"
  },
  "language_info": {
   "codemirror_mode": {
    "name": "ipython",
    "version": 3
   },
   "file_extension": ".py",
   "mimetype": "text/x-python",
   "name": "python",
   "nbconvert_exporter": "python",
   "pygments_lexer": "ipython3",
   "version": "3.10.4"
  }
 },
 "nbformat": 4,
 "nbformat_minor": 5
}
