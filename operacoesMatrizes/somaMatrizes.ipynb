{
 "cells": [
  {
   "cell_type": "markdown",
   "id": "deece300",
   "metadata": {},
   "source": [
    "# Matemática e Estatística\n",
    "## Prof. Ujeverson Tavares"
   ]
  },
  {
   "cell_type": "markdown",
   "id": "43cc2138",
   "metadata": {},
   "source": [
    "## Soma de matrizes"
   ]
  },
  {
   "cell_type": "markdown",
   "id": "4749129d",
   "metadata": {},
   "source": [
    "### Matriz linha"
   ]
  },
  {
   "cell_type": "code",
   "execution_count": 3,
   "id": "f753effd",
   "metadata": {},
   "outputs": [],
   "source": [
    "import numpy as np\n"
   ]
  },
  {
   "cell_type": "code",
   "execution_count": 15,
   "id": "816f4c0e",
   "metadata": {},
   "outputs": [
    {
     "data": {
      "text/plain": [
       "array([[ 1, -3,  5],\n",
       "       [-4, -8, 12],\n",
       "       [-5,  8,  2]])"
      ]
     },
     "execution_count": 15,
     "metadata": {},
     "output_type": "execute_result"
    }
   ],
   "source": [
    "#escrevendo uma matriz 2x2\n",
    "m1 = np.array([[1, -3, 5],[-4, -8, 12], [-5, 8, 2]], dtype=int)\n",
    "m1"
   ]
  },
  {
   "cell_type": "code",
   "execution_count": 5,
   "id": "ce63964d",
   "metadata": {},
   "outputs": [
    {
     "data": {
      "text/plain": [
       "(2, 2)"
      ]
     },
     "execution_count": 5,
     "metadata": {},
     "output_type": "execute_result"
    }
   ],
   "source": [
    "#.shape mostra a dimensão da matriz\n",
    "m1.shape"
   ]
  },
  {
   "cell_type": "code",
   "execution_count": 6,
   "id": "3992288e",
   "metadata": {},
   "outputs": [
    {
     "data": {
      "text/plain": [
       "array([[0.68845743, 0.00865416, 0.02629938],\n",
       "       [0.22317224, 0.69391249, 0.61320176],\n",
       "       [0.18913936, 0.94563275, 0.63494707],\n",
       "       [0.30160008, 0.8860796 , 0.07612319]])"
      ]
     },
     "execution_count": 6,
     "metadata": {},
     "output_type": "execute_result"
    }
   ],
   "source": [
    "#escrevendo uma matriz com números no intervalo [0,1)\n",
    "B = np.random.rand(4, 3)\n",
    "B"
   ]
  },
  {
   "cell_type": "code",
   "execution_count": 7,
   "id": "db205014",
   "metadata": {},
   "outputs": [
    {
     "data": {
      "text/plain": [
       "array([[0., 0., 0.],\n",
       "       [0., 0., 0.],\n",
       "       [0., 0., 0.]])"
      ]
     },
     "execution_count": 7,
     "metadata": {},
     "output_type": "execute_result"
    }
   ],
   "source": [
    "#matriz nula\n",
    "C = np.zeros((3,3))\n",
    "C"
   ]
  },
  {
   "cell_type": "code",
   "execution_count": 8,
   "id": "bad2e1a7",
   "metadata": {},
   "outputs": [
    {
     "data": {
      "text/plain": [
       "array([[-1,  0,  0],\n",
       "       [ 0,  1,  0],\n",
       "       [ 0,  0,  8]])"
      ]
     },
     "execution_count": 8,
     "metadata": {},
     "output_type": "execute_result"
    }
   ],
   "source": [
    "#criar uma matriz diagonal\n",
    "D = np.diag([-1,1,8])\n",
    "D"
   ]
  },
  {
   "cell_type": "code",
   "execution_count": 9,
   "id": "9707c797",
   "metadata": {},
   "outputs": [
    {
     "data": {
      "text/plain": [
       "array([[1., 0., 0., 0., 0., 0., 0., 0.],\n",
       "       [0., 1., 0., 0., 0., 0., 0., 0.],\n",
       "       [0., 0., 1., 0., 0., 0., 0., 0.],\n",
       "       [0., 0., 0., 1., 0., 0., 0., 0.],\n",
       "       [0., 0., 0., 0., 1., 0., 0., 0.],\n",
       "       [0., 0., 0., 0., 0., 1., 0., 0.],\n",
       "       [0., 0., 0., 0., 0., 0., 1., 0.],\n",
       "       [0., 0., 0., 0., 0., 0., 0., 1.]])"
      ]
     },
     "execution_count": 9,
     "metadata": {},
     "output_type": "execute_result"
    }
   ],
   "source": [
    "#criar uma matriz identidade\n",
    "I2 = np.identity(3) #matriz identidade de ordem 3\n",
    "I2\n",
    "I8 = np.identity(8) #matriz identidade de ordem 8\n",
    "I8"
   ]
  },
  {
   "cell_type": "code",
   "execution_count": 16,
   "id": "b5a07607",
   "metadata": {},
   "outputs": [
    {
     "data": {
      "text/plain": [
       "array([[ 1, -3,  5],\n",
       "       [-4, -8, 12],\n",
       "       [-5,  8,  2]])"
      ]
     },
     "execution_count": 16,
     "metadata": {},
     "output_type": "execute_result"
    }
   ],
   "source": [
    "#localizar um elemento na matriz\n",
    "m1"
   ]
  },
  {
   "cell_type": "code",
   "execution_count": 11,
   "id": "d54c5700",
   "metadata": {},
   "outputs": [
    {
     "data": {
      "text/plain": [
       "-3"
      ]
     },
     "execution_count": 11,
     "metadata": {},
     "output_type": "execute_result"
    }
   ],
   "source": [
    "m1[0,1] "
   ]
  },
  {
   "cell_type": "code",
   "execution_count": 12,
   "id": "25c723b7",
   "metadata": {},
   "outputs": [
    {
     "data": {
      "text/plain": [
       "-3"
      ]
     },
     "execution_count": 12,
     "metadata": {},
     "output_type": "execute_result"
    }
   ],
   "source": [
    "#ou\n",
    "m1[0][1]"
   ]
  },
  {
   "cell_type": "code",
   "execution_count": 18,
   "id": "853cccdf",
   "metadata": {},
   "outputs": [
    {
     "data": {
      "text/plain": [
       "-4"
      ]
     },
     "execution_count": 18,
     "metadata": {},
     "output_type": "execute_result"
    }
   ],
   "source": [
    "#ou\n",
    "m1[-2][-3]"
   ]
  },
  {
   "cell_type": "code",
   "execution_count": 19,
   "id": "266d1dc6",
   "metadata": {},
   "outputs": [
    {
     "data": {
      "text/plain": [
       "-8"
      ]
     },
     "execution_count": 19,
     "metadata": {},
     "output_type": "execute_result"
    }
   ],
   "source": [
    "#ou\n",
    "m1[-2,-2]"
   ]
  },
  {
   "cell_type": "code",
   "execution_count": 20,
   "id": "4212c783",
   "metadata": {},
   "outputs": [
    {
     "data": {
      "text/plain": [
       "array([-3, -8,  8])"
      ]
     },
     "execution_count": 20,
     "metadata": {},
     "output_type": "execute_result"
    }
   ],
   "source": [
    "#imprimir os elementos de uma coluna\n",
    "m1[:,1]"
   ]
  },
  {
   "cell_type": "code",
   "execution_count": null,
   "id": "28547102",
   "metadata": {},
   "outputs": [],
   "source": []
  }
 ],
 "metadata": {
  "interpreter": {
   "hash": "158df72d28a1c96a6e287f212b1885ff2a0a52a0b13178a71eae420cb9a21b9e"
  },
  "kernelspec": {
   "display_name": "Python 3.10.4 64-bit",
   "language": "python",
   "name": "python3"
  },
  "language_info": {
   "codemirror_mode": {
    "name": "ipython",
    "version": 3
   },
   "file_extension": ".py",
   "mimetype": "text/x-python",
   "name": "python",
   "nbconvert_exporter": "python",
   "pygments_lexer": "ipython3",
   "version": "3.10.4"
  }
 },
 "nbformat": 4,
 "nbformat_minor": 5
}
