{
 "cells": [
  {
   "cell_type": "code",
   "execution_count": 9,
   "id": "4c7564eb",
   "metadata": {},
   "outputs": [],
   "source": [
    "import random"
   ]
  },
  {
   "cell_type": "code",
   "execution_count": 10,
   "id": "55acd346",
   "metadata": {},
   "outputs": [
    {
     "name": "stdout",
     "output_type": "stream",
     "text": [
      "Digite um número, inteiro entre 1 e 10!\n",
      "3\n"
     ]
    }
   ],
   "source": [
    "chute = int(input(\"Digite um número, inteiro entre 1 e 10!\\n\"))"
   ]
  },
  {
   "cell_type": "code",
   "execution_count": 11,
   "id": "553c4e2d",
   "metadata": {},
   "outputs": [
    {
     "data": {
      "text/plain": [
       "6"
      ]
     },
     "execution_count": 11,
     "metadata": {},
     "output_type": "execute_result"
    }
   ],
   "source": [
    "numero = random.randint(1,10)\n",
    "numero"
   ]
  },
  {
   "cell_type": "code",
   "execution_count": 12,
   "id": "e65a7615",
   "metadata": {},
   "outputs": [
    {
     "data": {
      "text/plain": [
       "3"
      ]
     },
     "execution_count": 12,
     "metadata": {},
     "output_type": "execute_result"
    }
   ],
   "source": [
    "diferenca = numero - chute\n",
    "diferenca"
   ]
  },
  {
   "cell_type": "code",
   "execution_count": 13,
   "id": "0f811224",
   "metadata": {},
   "outputs": [
    {
     "name": "stdout",
     "output_type": "stream",
     "text": [
      "Você errou por 6 !\n"
     ]
    }
   ],
   "source": [
    "if numero == chute:\n",
    "    print('Você acertou!')\n",
    "\n",
    "elif diferenca < 0:\n",
    "    print('Você errou por', abs(diferenca),'!')\n",
    "\n",
    "else:\n",
    "    print('Você errou por', abs(diferenca),'!')"
   ]
  },
  {
   "cell_type": "code",
   "execution_count": null,
   "id": "54b42e8c",
   "metadata": {},
   "outputs": [],
   "source": []
  }
 ],
 "metadata": {
  "kernelspec": {
   "display_name": "Python 3 (ipykernel)",
   "language": "python",
   "name": "python3"
  },
  "language_info": {
   "codemirror_mode": {
    "name": "ipython",
    "version": 3
   },
   "file_extension": ".py",
   "mimetype": "text/x-python",
   "name": "python",
   "nbconvert_exporter": "python",
   "pygments_lexer": "ipython3",
   "version": "3.10.4"
  }
 },
 "nbformat": 4,
 "nbformat_minor": 5
}
