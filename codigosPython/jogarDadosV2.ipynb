{
 "cells": [
  {
   "cell_type": "code",
   "execution_count": 1,
   "id": "3b83f60f",
   "metadata": {},
   "outputs": [],
   "source": [
    "import random"
   ]
  },
  {
   "cell_type": "code",
   "execution_count": 8,
   "id": "1edda924",
   "metadata": {},
   "outputs": [],
   "source": [
    "def gerarfaces(facesDado):\n",
    "    dados = int(input(\"Com quantos dados quer jogar?\")) #entrada da quantidade de dados que o usuário quer jogar.\n",
    "    for i in range(dados):\n",
    "        numero = random.randint(1, facesDado)\n",
    "        print(\"\\n Você jogou o dado\",i+1, \"e a face de cima é o:\", numero)\n"
   ]
  },
  {
   "cell_type": "code",
   "execution_count": 9,
   "id": "f3ea04ea",
   "metadata": {},
   "outputs": [
    {
     "name": "stdout",
     "output_type": "stream",
     "text": [
      "\n",
      "Digite quantas faces tem o seu dado ou digite 'parar' para guardar os dados:6\n",
      "Com quantos dados quer jogar?4\n",
      "\n",
      " Você jogou o dado 1 e a face de cima é o: 3\n",
      "\n",
      " Você jogou o dado 2 e a face de cima é o: 6\n",
      "\n",
      " Você jogou o dado 3 e a face de cima é o: 3\n",
      "\n",
      " Você jogou o dado 4 e a face de cima é o: 4\n",
      "\n",
      "Digite quantas faces tem o seu dado ou digite 'parar' para guardar os dados:parar\n",
      "Agora você guardou os dados!\n"
     ]
    }
   ],
   "source": [
    "continua = True\n",
    "while continua:\n",
    "    facesDado = input(\"\\nDigite quantas faces tem o seu dado ou digite 'parar' para guardar os dados:\")\n",
    "    \n",
    "    if facesDado == \"parar\":\n",
    "        continua = False\n",
    "    \n",
    "    else:\n",
    "        facesDado = int(facesDado)\n",
    "        gerarfaces(facesDado)\n",
    "        \n",
    "print(\"Agora você guardou os dados!\")"
   ]
  },
  {
   "cell_type": "code",
   "execution_count": null,
   "id": "9c8054bb",
   "metadata": {},
   "outputs": [],
   "source": []
  },
  {
   "cell_type": "code",
   "execution_count": null,
   "id": "575cccf4",
   "metadata": {},
   "outputs": [],
   "source": []
  }
 ],
 "metadata": {
  "kernelspec": {
   "display_name": "Python 3 (ipykernel)",
   "language": "python",
   "name": "python3"
  },
  "language_info": {
   "codemirror_mode": {
    "name": "ipython",
    "version": 3
   },
   "file_extension": ".py",
   "mimetype": "text/x-python",
   "name": "python",
   "nbconvert_exporter": "python",
   "pygments_lexer": "ipython3",
   "version": "3.10.4"
  }
 },
 "nbformat": 4,
 "nbformat_minor": 5
}
