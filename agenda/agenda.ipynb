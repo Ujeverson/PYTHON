{
 "cells": [
  {
   "cell_type": "code",
   "execution_count": 6,
   "id": "337b204a",
   "metadata": {},
   "outputs": [],
   "source": [
    "#Função que cria contatos\n",
    "def criarContato():\n",
    "    print(\"\\nDigite as informações do contato\")\n",
    "    pessoa = input(\"Nome: \")\n",
    "    mail = input(\"e-mail: \")\n",
    "    tel = input(\"telefone: \")\n",
    "    return pessoa, mail, tel"
   ]
  },
  {
   "cell_type": "code",
   "execution_count": 7,
   "id": "83f72714",
   "metadata": {},
   "outputs": [],
   "source": [
    "#função que cria e salva os dados como arquivo .csv\n",
    "def salvarContato(pessoa, mail, tel):\n",
    "    arquivo = open('contatos.csv', 'w')\n",
    "    arquivo.write('{}{}{}\\n' .format(pessoa, mail, tel))\n",
    "    arquivo.flush()\n",
    "    arquivo.close()"
   ]
  },
  {
   "cell_type": "code",
   "execution_count": 8,
   "id": "3b460a4f",
   "metadata": {},
   "outputs": [
    {
     "name": "stdout",
     "output_type": "stream",
     "text": [
      "\n",
      "Digite as informações do contato\n",
      "Nome: uje\n",
      "e-mail: uje@\n",
      "telefone: 898090\n"
     ]
    }
   ],
   "source": [
    "p, e, t = criarContato()"
   ]
  },
  {
   "cell_type": "code",
   "execution_count": 10,
   "id": "54c225fc",
   "metadata": {},
   "outputs": [],
   "source": [
    "salvarContato(pessoa=p,mail=e,tel=t)"
   ]
  },
  {
   "cell_type": "code",
   "execution_count": null,
   "id": "4752940e",
   "metadata": {},
   "outputs": [],
   "source": []
  }
 ],
 "metadata": {
  "kernelspec": {
   "display_name": "Python 3 (ipykernel)",
   "language": "python",
   "name": "python3"
  },
  "language_info": {
   "codemirror_mode": {
    "name": "ipython",
    "version": 3
   },
   "file_extension": ".py",
   "mimetype": "text/x-python",
   "name": "python",
   "nbconvert_exporter": "python",
   "pygments_lexer": "ipython3",
   "version": "3.10.4"
  }
 },
 "nbformat": 4,
 "nbformat_minor": 5
}
