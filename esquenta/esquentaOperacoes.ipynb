{
 "cells": [
  {
   "cell_type": "code",
   "execution_count": 2,
   "id": "163ff18a",
   "metadata": {},
   "outputs": [
    {
     "name": "stdout",
     "output_type": "stream",
     "text": [
      "Olá mundo!\n"
     ]
    }
   ],
   "source": [
    "print(\"Olá mundo!\")"
   ]
  },
  {
   "cell_type": "code",
   "execution_count": 1,
   "id": "b2e758c4",
   "metadata": {},
   "outputs": [],
   "source": [
    "# Soma"
   ]
  },
  {
   "cell_type": "code",
   "execution_count": null,
   "id": "026a2a00",
   "metadata": {},
   "outputs": [],
   "source": [
    "# subtração"
   ]
  },
  {
   "cell_type": "code",
   "execution_count": null,
   "id": "77bf0710",
   "metadata": {},
   "outputs": [],
   "source": [
    "# divisão"
   ]
  },
  {
   "cell_type": "code",
   "execution_count": null,
   "id": "d19ebc76",
   "metadata": {},
   "outputs": [],
   "source": [
    "# multiplicação"
   ]
  },
  {
   "cell_type": "code",
   "execution_count": null,
   "id": "62d2afff",
   "metadata": {},
   "outputs": [],
   "source": [
    "# "
   ]
  },
  {
   "cell_type": "code",
   "execution_count": null,
   "id": "328f14ae",
   "metadata": {},
   "outputs": [],
   "source": []
  }
 ],
 "metadata": {
  "kernelspec": {
   "display_name": "Python 3 (ipykernel)",
   "language": "python",
   "name": "python3"
  },
  "language_info": {
   "codemirror_mode": {
    "name": "ipython",
    "version": 3
   },
   "file_extension": ".py",
   "mimetype": "text/x-python",
   "name": "python",
   "nbconvert_exporter": "python",
   "pygments_lexer": "ipython3",
   "version": "3.10.4"
  }
 },
 "nbformat": 4,
 "nbformat_minor": 5
}
