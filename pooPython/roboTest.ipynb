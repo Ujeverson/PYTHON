{
 "cells": [
  {
   "cell_type": "code",
   "execution_count": 11,
   "id": "5dab75e4",
   "metadata": {},
   "outputs": [],
   "source": [
    "import random"
   ]
  },
  {
   "cell_type": "code",
   "execution_count": 12,
   "id": "73143ad5",
   "metadata": {},
   "outputs": [],
   "source": [
    "#Criar um robo que se movimenta em uma matriz 10 x 10\n",
    "class Localizacao(object):\n",
    "    def __init__(self, x, y): \n",
    "        self.x = x \n",
    "        self.y = y\n",
    "    \n",
    "    def __str__(self):\n",
    "        return '<%s, %s>' % (self.x, self.y)"
   ]
  },
  {
   "cell_type": "code",
   "execution_count": 13,
   "id": "4e0b29bd",
   "metadata": {},
   "outputs": [],
   "source": [
    "class Gift(Localizacao):\n",
    "    def __init__(self, x, y, name): \n",
    "        super(Gift, self).__init__(x,y)\n",
    "        self.name = name\n",
    "    \n",
    "    def __str__(self):\n",
    "        return '<%s, %s>: %s' % (self.x, self.y,self.name)\n",
    "    \n",
    "    def __repr__(self):\n",
    "        return '<Gift> %s' % str(self)"
   ]
  },
  {
   "cell_type": "code",
   "execution_count": 14,
   "id": "1352fe74",
   "metadata": {},
   "outputs": [],
   "source": [
    "class Robo(Localizacao):\n",
    "        \n",
    "    def mover_cima(self): #ou mover p cima\n",
    "        \n",
    "        if self.y < 10:\n",
    "            self.y = self.y + 1\n",
    "        else:\n",
    "            print(\"O espaço acabou!\")\n",
    "        \n",
    "    \n",
    "    def mover_baixo(self):\n",
    "       \n",
    "        if self.y > 0:\n",
    "            self.y = self.y - 1\n",
    "        else:\n",
    "            print(\"O espaço acabou!\")\n",
    "            \n",
    "    def mover_esquerda(self):\n",
    "       \n",
    "        if self.x > 0:\n",
    "            self.x = self.x - 1\n",
    "        else:\n",
    "            print(\"O espaço acabou!\")\n",
    "            \n",
    "    def mover_direita(self):\n",
    "      \n",
    "        if self.x < 10:\n",
    "            self.x = self.x + 1\n",
    "        else:\n",
    "            print(\"O espaço acabou!\")"
   ]
  },
  {
   "cell_type": "code",
   "execution_count": 15,
   "id": "f85b05b8",
   "metadata": {},
   "outputs": [],
   "source": [
    "#verifica se o robo encontrou o \"presente\"\n",
    "def check_gift(robo, gifts):\n",
    "    ok = False\n",
    "    for gift in gifts:\n",
    "        if gift.x == robo.x and gift.y == robo.y:\n",
    "            print(\"O robo encontrou o gift:\", gift.name)\n",
    "            ok = True\n",
    "            \n",
    "    return ok"
   ]
  },
  {
   "cell_type": "code",
   "execution_count": 16,
   "id": "58ce3472",
   "metadata": {},
   "outputs": [],
   "source": [
    "#criar gifts no \"mapa\"\n",
    "g1 = Gift(random.randint(0,10), random.randint(0,10), 'energia')\n",
    "g2 = Gift(random.randint(0,10), random.randint(0,10), 'lubrificante')\n",
    "g3 = Gift(random.randint(0,10), random.randint(0,10), 'arma')\n",
    "\n",
    "gifts = [g1, g2, g3]"
   ]
  },
  {
   "cell_type": "code",
   "execution_count": 17,
   "id": "b348324e",
   "metadata": {},
   "outputs": [
    {
     "name": "stdout",
     "output_type": "stream",
     "text": [
      "<5, 4>: energia\n",
      "<0, 8>: lubrificante\n",
      "<9, 5>: arma\n"
     ]
    }
   ],
   "source": [
    "print(g1)\n",
    "print(g2)\n",
    "print(g3)"
   ]
  },
  {
   "cell_type": "code",
   "execution_count": 18,
   "id": "d21bff0d",
   "metadata": {},
   "outputs": [
    {
     "data": {
      "text/plain": [
       "[<Gift> <5, 4>: energia, <Gift> <0, 8>: lubrificante, <Gift> <9, 5>: arma]"
      ]
     },
     "execution_count": 18,
     "metadata": {},
     "output_type": "execute_result"
    }
   ],
   "source": [
    "gifts"
   ]
  },
  {
   "cell_type": "code",
   "execution_count": 19,
   "id": "397be1fc",
   "metadata": {},
   "outputs": [
    {
     "data": {
      "text/plain": [
       "'<Gift> <5, 4>: energia'"
      ]
     },
     "execution_count": 19,
     "metadata": {},
     "output_type": "execute_result"
    }
   ],
   "source": [
    "g1.__repr__()"
   ]
  },
  {
   "cell_type": "code",
   "execution_count": 20,
   "id": "a6cd4164",
   "metadata": {},
   "outputs": [],
   "source": [
    "robo = Robo(random.randint(0,10), random.randint(0,10))"
   ]
  },
  {
   "cell_type": "code",
   "execution_count": 21,
   "id": "01f8e829",
   "metadata": {},
   "outputs": [
    {
     "data": {
      "text/plain": [
       "'<1, 0>'"
      ]
     },
     "execution_count": 21,
     "metadata": {},
     "output_type": "execute_result"
    }
   ],
   "source": [
    "str(robo)"
   ]
  },
  {
   "cell_type": "code",
   "execution_count": null,
   "id": "0821149f",
   "metadata": {},
   "outputs": [],
   "source": []
  },
  {
   "cell_type": "code",
   "execution_count": null,
   "id": "4be2cbab",
   "metadata": {},
   "outputs": [],
   "source": []
  }
 ],
 "metadata": {
  "kernelspec": {
   "display_name": "Python 3 (ipykernel)",
   "language": "python",
   "name": "python3"
  },
  "language_info": {
   "codemirror_mode": {
    "name": "ipython",
    "version": 3
   },
   "file_extension": ".py",
   "mimetype": "text/x-python",
   "name": "python",
   "nbconvert_exporter": "python",
   "pygments_lexer": "ipython3",
   "version": "3.10.4"
  }
 },
 "nbformat": 4,
 "nbformat_minor": 5
}
